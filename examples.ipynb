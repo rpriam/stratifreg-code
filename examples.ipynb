{
 "cells": [
  {
   "cell_type": "code",
   "execution_count": 1,
   "id": "0024e3d7-a707-44a3-826b-bd1525645dd6",
   "metadata": {},
   "outputs": [],
   "source": [
    "import warnings\n",
    "import os\n",
    "os.environ[\"OMP_NUM_THREADS\"] = \"6\"\n",
    "# warnings.filterwarnings(\"ignore\", message=\"KMeans is known to have a memory leak*\")\n",
    "# warnings.filterwarnings(\"ignore\", message=\"Solution may be inaccurate*\")"
   ]
  },
  {
   "cell_type": "code",
   "execution_count": 2,
   "id": "713491fe-a146-4569-8517-dbbdfe6d693b",
   "metadata": {},
   "outputs": [],
   "source": [
    "import numpy as np\n",
    "import pandas as pd\n",
    "\n",
    "from sklearn.preprocessing import PolynomialFeatures\n",
    "from sklearn.preprocessing import StandardScaler\n",
    "from sklearn.preprocessing import PolynomialFeatures\n",
    "\n",
    "import stratifreg\n",
    "from stratifreg.two_groups import Joint2Regressor\n",
    "from stratifreg.k_groups import JointKRegressor\n",
    "from stratifreg.gmm_groups import Joint2GMMRegressor\n",
    "from stratifreg.utils import JointUtils"
   ]
  },
  {
   "cell_type": "code",
   "execution_count": 3,
   "id": "4d6fe10c-57db-4e38-83ca-87b8c2953859",
   "metadata": {},
   "outputs": [
    {
     "name": "stdout",
     "output_type": "stream",
     "text": [
      "(3059, 5) (1558, 5) (1501, 5) (3059,) (1558,) (1501,)\n"
     ]
    }
   ],
   "source": [
    "def polynomial_tramsform(X, degree=2, include_bias=False):\n",
    "    \"\"\"\n",
    "    Transforme un X (n, p) en toutes les colonnes de polynômes croisés jusqu'à 'degree'\n",
    "    Exemple : degree=2 → 1, x1, x2, ..., x1^2, x2^2, x1*x2, etc.\n",
    "    \"\"\"\n",
    "    poly = PolynomialFeatures(degree=degree, include_bias=include_bias)\n",
    "    X_poly       = poly.fit_transform(X)\n",
    "    colname_poly = poly.get_feature_names_out(X.columns)\n",
    "    return X_poly, colname_poly\n",
    "\n",
    "def get_data(path_X,path_y,scale=False,degree=0):\n",
    "    scaler = StandardScaler()\n",
    "    X = pd.read_csv(path_X)\n",
    "    y = pd.read_csv(path_y)\n",
    "    columnsXpoly = X.columns\n",
    "    if degree>1: \n",
    "        X_poly,columnsXpoly = polynomial_tramsform(X,degree,False)\n",
    "        X = X_poly\n",
    "    X = JointUtils._as_numpy(X)\n",
    "    y = JointUtils._as_numpy(y)\n",
    "    y_med  = np.median(y)\n",
    "    X  = pd.DataFrame(scaler.fit_transform(X), columns=columnsXpoly)\n",
    "    X1,X2,y1,y2  = JointUtils.split_by_median(X,y, group_mode='median')\n",
    "    if scale:\n",
    "        X = scaler.fit_transform(X)\n",
    "        #X1 = scaler.fit_transform(X1)\n",
    "        #X2 = scaler.fit_transform(X2)\n",
    "    Xc          = JointUtils.add_intercept(X)\n",
    "    X1c         = JointUtils.add_intercept(X1)\n",
    "    X2c         = JointUtils.add_intercept(X2)\n",
    "    return X,Xc,y,X1,X1c,y1,X2,X2c,y2,y_med,columnsXpoly\n",
    "\n",
    "X,Xc,y,X1,X1c,y1,X2,X2c,y2,y_med,varnames = get_data('./datasets/Xf_all_prediabet.csv',\n",
    "                                                     './datasets/yf_all_prediabet.csv')\n",
    "print(Xc.shape,X1c.shape,X2c.shape,y.shape,y1.shape,y2.shape)"
   ]
  },
  {
   "cell_type": "code",
   "execution_count": 4,
   "id": "88d1cb99-8a21-49bc-a8e7-694969e5b06e",
   "metadata": {},
   "outputs": [
    {
     "name": "stdout",
     "output_type": "stream",
     "text": [
      "            beta_G1  beta_G2\n",
      "intercept   53.3515  73.9497\n",
      "Sex          0.8170  -0.7908\n",
      "IMD_Decile   0.8992   0.1527\n",
      "BMI         -0.7765  -2.4729\n",
      "HbA1C        0.2593   0.2144\n"
     ]
    }
   ],
   "source": [
    "reg = Joint2Regressor()\n",
    "[beta1, beta2], var_beta, sigma2s = reg.fit_ols_groups(X1c, X2c, y1, y2, sigma_mode='two')\n",
    "print(Joint2Regressor.display(reg, varnames,\"beta\"))"
   ]
  },
  {
   "cell_type": "code",
   "execution_count": 5,
   "id": "d21becf8-7cc2-4174-b629-c7aa5b0ec31e",
   "metadata": {},
   "outputs": [
    {
     "name": "stdout",
     "output_type": "stream",
     "text": [
      "            model_G1  model_G2\n",
      "intercept    53.3515   73.9497\n",
      "Sex           0.8170   -0.7908\n",
      "IMD_Decile    0.8992    0.1527\n",
      "BMI          -0.7765   -2.4729\n",
      "HbA1C         0.2593    0.2144\n"
     ]
    }
   ],
   "source": [
    "kreg = JointKRegressor()\n",
    "kreg.fit([(X1c,y1),(X2c,y2)], joint_X_list=None, loss='quadratic', \n",
    "         tau=0.0, l1=0., l2=0., weights_list=None)\n",
    "print(JointKRegressor.display(kreg,varnames))"
   ]
  },
  {
   "cell_type": "code",
   "execution_count": null,
   "id": "e17d4301-e207-42e7-8058-7e7b35e7ac2c",
   "metadata": {},
   "outputs": [],
   "source": [
    "gmmreg = Joint2GMMRegressor()\n",
    "gmmreg.fit(X1c, X2c, y1, y2, x0=None, m1=1, m2=1, max_iter=10)\n",
    "print(Joint2Regressor.display(reg, varnames,\"beta\"))"
   ]
  },
  {
   "cell_type": "code",
   "execution_count": null,
   "id": "c7ce0056-4e55-4ddb-a2e2-4da1d03dff6b",
   "metadata": {},
   "outputs": [],
   "source": [
    "kreg = JointKRegressor()\n",
    "kreg.fit([(X1c,y1),(X2c,y2)], joint_X_list=None, loss='quantile', \n",
    "                   tau=0.5, l1=0., l2=0., weights_list=None)\n",
    "print(JointKRegressor.display(kreg, varnames,\"beta\"))"
   ]
  },
  {
   "cell_type": "code",
   "execution_count": null,
   "id": "c117fdcc-9bb3-4d42-8c28-a10372e4fa99",
   "metadata": {},
   "outputs": [],
   "source": [
    "x0_c  = JointUtils.find_x0(Xc, y, y_med)\n",
    "x0_LL = JointUtils.find_x0_LL(Xc, y, y_med, L=1)\n",
    "regctr_x0c  = Joint2Regressor()\n",
    "resu_x0c    = regctr_x0c.fit_ols_jointure_a_b(X1c, X2c, y1, y2, x0_c, \n",
    "                                  y0=None, sigma_mode='one', cas='a')\n",
    "regctr_x0LL = Joint2Regressor()\n",
    "resu_x0LL   = regctr_x0LL.fit_ols_jointure_a_b(X1c, X2c, y1, y2, x0_LL, \n",
    "                                  y0=None, sigma_mode='one', cas='a')\n",
    "print(Joint2Regressor.display(regctr_x0c, varnames,\"beta_x0_c\"))\n",
    "print(Joint2Regressor.display(regctr_x0LL, varnames,\"beta_x0_LL\"))"
   ]
  },
  {
   "cell_type": "code",
   "execution_count": null,
   "id": "4a492a5b-917c-4bcd-a09f-ad9e3e0215ad",
   "metadata": {},
   "outputs": [],
   "source": [
    "gmmreg = Joint2GMMRegressor()\n",
    "gmmreg.fit(X1c, X2c, y1, y2, x0=x0_c, m1=1, m2=1,max_iter=10)\n",
    "print(Joint2GMMRegressor.display(gmmreg,varnames,\"beta\"))"
   ]
  },
  {
   "cell_type": "code",
   "execution_count": null,
   "id": "9d1623de-74da-4e4c-b89e-c19d356f4712",
   "metadata": {},
   "outputs": [],
   "source": [
    "gmmreg = Joint2GMMRegressor()\n",
    "gmmreg.fit(X1c, X2c, y1, y2, x0=x0_c, m1=2, m2=2,max_iter=10)\n",
    "print(Joint2GMMRegressor.display(gmmreg,varnames,\"beta\"))"
   ]
  },
  {
   "cell_type": "code",
   "execution_count": null,
   "id": "ad6effa8-e84c-43c3-b279-c25d14e2ff6e",
   "metadata": {},
   "outputs": [],
   "source": [
    "kreg = JointKRegressor()\n",
    "group_list = [(X1c,y1),(X2c,y2)]\n",
    "kreg.fit(group_list, joint_X_list=None, loss='quadratic', \n",
    "         tau=0.5, l1=0.0, l2=0.0, weights_list=None)\n",
    "print(JointKRegressor.display(kreg,varnames,\"beta\"))"
   ]
  },
  {
   "cell_type": "code",
   "execution_count": null,
   "id": "2854d1a8-bad9-4067-bf70-1b29b359a778",
   "metadata": {},
   "outputs": [],
   "source": [
    "kreg = JointKRegressor()\n",
    "kreg.fit([(X1c,y1),(X2c,y2)], joint_X_list=[x0_c], loss='quadratic', \n",
    "         tau=0.5, l1=0.0, l2=0.0, weights_list=None) \n",
    "print(JointKRegressor.display(kreg,varnames))"
   ]
  },
  {
   "cell_type": "code",
   "execution_count": null,
   "id": "8fc2f08b-d81a-40b7-bc03-28d2b2a17272",
   "metadata": {},
   "outputs": [],
   "source": [
    "reg = Joint2Regressor()\n",
    "betas, var_beta, sigma2s = reg.fit_ols_jointure_smoothed(X1c, X2c, y1, y2, x0_c, lc=10.0)\n",
    "print(Joint2Regressor.display(reg, varnames,\"beta_S_x0_\"))"
   ]
  },
  {
   "cell_type": "code",
   "execution_count": null,
   "id": "c45e3c23-c7e1-4eba-8948-f6c0644ed90d",
   "metadata": {},
   "outputs": [],
   "source": [
    "kreg = JointKRegressor()\n",
    "#X1c1,X1c2,y11,y12  = JointUtils.split_by_median(X1c,y1, group_mode='median')\n",
    "X2c1,X2c2,y21,y22  = JointUtils.split_by_median(X2c,y2, group_mode='median')\n",
    "jl = [x0_c,JointUtils.find_x0(X2c, y2, np.median(y2))]             \n",
    "betas = kreg.fit([(X1c,y1),(X2c1,y21),(X2c2,y22)], jl, loss='quantile', tau=0.5, l1=0.9, l2=0.37)\n",
    "print(JointKRegressor.display(kreg,varnames,\"beta\"))"
   ]
  },
  {
   "cell_type": "code",
   "execution_count": null,
   "id": "d1558f15-fb03-4e16-a2f7-a8ae626d98c6",
   "metadata": {},
   "outputs": [],
   "source": []
  }
 ],
 "metadata": {
  "kernelspec": {
   "display_name": "Python 3 (ipykernel)",
   "language": "python",
   "name": "python3"
  },
  "language_info": {
   "codemirror_mode": {
    "name": "ipython",
    "version": 3
   },
   "file_extension": ".py",
   "mimetype": "text/x-python",
   "name": "python",
   "nbconvert_exporter": "python",
   "pygments_lexer": "ipython3",
   "version": "3.11.7"
  }
 },
 "nbformat": 4,
 "nbformat_minor": 5
}
