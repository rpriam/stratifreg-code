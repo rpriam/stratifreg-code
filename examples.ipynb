{
 "cells": [
  {
   "cell_type": "code",
   "execution_count": 1,
   "id": "0024e3d7-a707-44a3-826b-bd1525645dd6",
   "metadata": {},
   "outputs": [],
   "source": [
    "import warnings\n",
    "import os\n",
    "os.environ[\"OMP_NUM_THREADS\"] = \"6\"\n",
    "# warnings.filterwarnings(\"ignore\", message=\"KMeans is known to have a memory leak*\")\n",
    "# warnings.filterwarnings(\"ignore\", message=\"Solution may be inaccurate*\")"
   ]
  },
  {
   "cell_type": "code",
   "execution_count": 2,
   "id": "713491fe-a146-4569-8517-dbbdfe6d693b",
   "metadata": {},
   "outputs": [],
   "source": [
    "import numpy as np\n",
    "import pandas as pd\n",
    "\n",
    "from sklearn.preprocessing import PolynomialFeatures\n",
    "from sklearn.preprocessing import StandardScaler\n",
    "from sklearn.preprocessing import PolynomialFeatures\n",
    "\n",
    "import stratifreg\n",
    "from stratifreg.two_groups import Joint2Regressor\n",
    "from stratifreg.k_groups import JointKRegressor\n",
    "from stratifreg.gmm_groups import Joint2GMMRegressor\n",
    "from stratifreg.utils import JointUtils"
   ]
  },
  {
   "cell_type": "code",
   "execution_count": 3,
   "id": "4d6fe10c-57db-4e38-83ca-87b8c2953859",
   "metadata": {},
   "outputs": [
    {
     "name": "stdout",
     "output_type": "stream",
     "text": [
      "(4361, 7) (2231, 7) (2130, 7) (4361, 1) (2231, 1) (2130, 1)\n"
     ]
    }
   ],
   "source": [
    "def polynomial_tramsform(X, degree=2, include_bias=False):\n",
    "    \"\"\"\n",
    "    Transform a DataFrame Pandas/Array Numpy [ X (n, p) ] with polynoms \n",
    "    Example : degree = 2 -> 1, x1, x2, ..., x1^2, x2^2, x1*x2, etc.\n",
    "    \"\"\"\n",
    "    poly = PolynomialFeatures(degree=degree, include_bias=include_bias)\n",
    "    X_poly       = poly.fit_transform(X)\n",
    "    colname_poly = poly.get_feature_names_out(X.columns)\n",
    "    X_poly_df = pd.DataFrame(X_poly, columns=colname_poly, index=X.index)\n",
    "    return X_poly_df, colname_poly\n",
    "\n",
    "def get_data(path_X,path_y,scale=False,degree=0):\n",
    "    scaler = StandardScaler()\n",
    "    X = pd.read_csv(path_X)\n",
    "    y = pd.read_csv(path_y)\n",
    "    columnsXpoly = X.columns\n",
    "    if degree>1: \n",
    "        X,columnsXpoly = polynomial_tramsform(X,degree,False)\n",
    "    X  = pd.DataFrame(scaler.fit_transform(X), columns=columnsXpoly)\n",
    "    X1,X2,y1,y2  = JointUtils.split_at_y0(X,y)\n",
    "    if scale: X = scaler.fit_transform(X)\n",
    "    if scale: X1 = scaler.fit_transform(X1)\n",
    "    if scale: X2 = scaler.fit_transform(X2)\n",
    "    Xc          = JointUtils.add_intercept(X)\n",
    "    X1c         = JointUtils.add_intercept(X1)\n",
    "    X2c         = JointUtils.add_intercept(X2)\n",
    "    return X,Xc,y,X1,X1c,y1,X2,X2c,y2,columnsXpoly\n",
    "\n",
    "X,Xc,y,X1,X1c,y1,X2,X2c,y2,varnames = get_data('./datasets/Xf_all_datasurvey.csv',\n",
    "                                               './datasets/yf_all_datasurvey.csv')\n",
    "print(Xc.shape,X1c.shape,X2c.shape,y.shape,y1.shape,y2.shape)"
   ]
  },
  {
   "cell_type": "code",
   "execution_count": 4,
   "id": "5489517b-338c-477a-b93f-2ca9b6a45b9e",
   "metadata": {},
   "outputs": [
    {
     "name": "stdout",
     "output_type": "stream",
     "text": [
      "(4361, 6) (2231, 7) (2130, 7)\n",
      "      hstrs    financ      fear     angry     happy      bord\n",
      "0  0.934975 -1.178120  0.664019 -0.849668  0.768101  0.102943\n",
      "1  1.654081 -0.826310  0.491007  0.141794 -3.110656  0.630884\n",
      "2  1.341426  0.009237  0.491007  0.141794 -0.138151  0.289275\n",
      "3 -0.940954  0.229118  0.620766  0.586243 -0.790652  0.692994\n",
      "4  0.090807  0.844784  0.491007  0.141794 -0.138151  0.289275\n"
     ]
    }
   ],
   "source": [
    "print(X.shape, X1c.shape,X2c.shape)\n",
    "print(X.head())"
   ]
  },
  {
   "cell_type": "code",
   "execution_count": 5,
   "id": "a3873edc-968c-43ab-b94e-614fb19413e4",
   "metadata": {},
   "outputs": [
    {
     "name": "stdout",
     "output_type": "stream",
     "text": [
      "        beta_G1\n",
      "const   26.9424\n",
      "hstrs    2.6833\n",
      "financ   1.6128\n",
      "fear    -2.4335\n",
      "angry   -2.5095\n",
      "happy    5.7974\n",
      "bord   -12.9043\n",
      "[-20886.83  41840.7   41789.66]\n"
     ]
    }
   ],
   "source": [
    "reg1 = Joint2Regressor()\n",
    "[beta], var_beta, sigma2s = reg1.fit_ols_single(Xc, y)\n",
    "print(JointKRegressor.display(reg1, \"beta\"))\n",
    "print(np.round([reg1.variables_[\"lgk\"],reg1.variables_[\"bic\"],reg1.variables_[\"aic\"]],2))"
   ]
  },
  {
   "cell_type": "code",
   "execution_count": 6,
   "id": "88d1cb99-8a21-49bc-a8e7-694969e5b06e",
   "metadata": {},
   "outputs": [
    {
     "name": "stdout",
     "output_type": "stream",
     "text": [
      "        beta_G1  beta_G2\n",
      "const    1.0844  51.4664\n",
      "hstrs   -1.0810   1.6608\n",
      "financ   0.3151   1.4477\n",
      "fear     0.3509  -1.5188\n",
      "angry   -1.2632  -2.0165\n",
      "happy    1.6020   3.8584\n",
      "bord    -3.6285  -5.5448\n",
      "[-9356.11 18773.9  18728.22]\n",
      "[-9461.39 18984.1  18938.79]\n"
     ]
    }
   ],
   "source": [
    "reg = Joint2Regressor()\n",
    "[beta1, beta2], sigma2s = reg.fit_ols_groups(X1c, X2c, y1, y2, sigma_mode='two')\n",
    "print(JointKRegressor.display(reg, \"beta\"))\n",
    "print(np.round([reg.lgk1_,reg.bic1_,reg.aic1_],2))\n",
    "print(np.round([reg.lgk2_,reg.bic2_,reg.aic2_],2))"
   ]
  },
  {
   "cell_type": "code",
   "execution_count": 7,
   "id": "d21becf8-7cc2-4174-b629-c7aa5b0ec31e",
   "metadata": {},
   "outputs": [
    {
     "name": "stdout",
     "output_type": "stream",
     "text": [
      "['const', 'hstrs', 'financ', 'fear', 'angry', 'happy', 'bord'] 7 7\n",
      "        beta_G1  beta_G2\n",
      "const    1.0844  51.4664\n",
      "hstrs   -1.0810   1.6608\n",
      "financ   0.3151   1.4477\n",
      "fear     0.3509  -1.5188\n",
      "angry   -1.2632  -2.0165\n",
      "happy    1.6020   3.8584\n",
      "bord    -3.6285  -5.5448\n"
     ]
    }
   ],
   "source": [
    "kreg = JointKRegressor()\n",
    "rr = kreg.fit([(X1c,y1),(X2c,y2)], joint_X_list=None, loss='quadratic', \n",
    "         tau=0.0, l1=0., l2=0., weights_list=None)\n",
    "print(kreg.X_columns_,len(kreg.X_columns_),len(rr[0]))\n",
    "print(JointKRegressor.display(kreg, \"beta\"))"
   ]
  },
  {
   "cell_type": "code",
   "execution_count": 8,
   "id": "e17d4301-e207-42e7-8058-7e7b35e7ac2c",
   "metadata": {},
   "outputs": [
    {
     "name": "stdout",
     "output_type": "stream",
     "text": [
      "        beta_G1_C1  beta_G2_C1\n",
      "const       1.0844     51.4662\n",
      "hstrs      -1.0810      1.6609\n",
      "financ      0.3151      1.4477\n",
      "fear        0.3509     -1.5188\n",
      "angry      -1.2632     -2.0165\n",
      "happy       1.6020      3.8584\n",
      "bord       -3.6285     -5.5448\n"
     ]
    }
   ],
   "source": [
    "gmmreg = Joint2GMMRegressor()\n",
    "gmmreg.fit(X1c, X2c, y1, y2, x0=None, m1=1, m2=1, max_iter=10)\n",
    "print(Joint2GMMRegressor.display(gmmreg, \"beta\"))\n",
    "# print(Joint2GMMRegressor.predict(gmmreg, Xc,\"beta\")[:5])"
   ]
  },
  {
   "cell_type": "code",
   "execution_count": 9,
   "id": "c7ce0056-4e55-4ddb-a2e2-4da1d03dff6b",
   "metadata": {},
   "outputs": [
    {
     "name": "stdout",
     "output_type": "stream",
     "text": [
      "        beta_G1  beta_G2\n",
      "const    0.7805  48.2192\n",
      "hstrs   -0.0210   1.8404\n",
      "financ   0.0024   2.6541\n",
      "fear     0.0058  -1.9495\n",
      "angry   -0.0138  -2.5632\n",
      "happy    0.3363   4.8254\n",
      "bord    -0.7847  -7.0348\n"
     ]
    },
    {
     "name": "stderr",
     "output_type": "stream",
     "text": [
      "C:\\Users\\prima\\anaconda3\\Lib\\site-packages\\cvxpy\\problems\\problem.py:1504: UserWarning: Solution may be inaccurate. Try another solver, adjusting the solver settings, or solve with verbose=True for more information.\n",
      "  warnings.warn(\n"
     ]
    }
   ],
   "source": [
    "kreg = JointKRegressor()\n",
    "kreg.fit([(X1c,y1),(X2c,y2)], joint_X_list=None, loss='quantile', \n",
    "                   tau=0.5, l1=0., l2=0., weights_list=None)\n",
    "print(JointKRegressor.display(kreg, \"beta\"))"
   ]
  },
  {
   "cell_type": "code",
   "execution_count": 10,
   "id": "c117fdcc-9bb3-4d42-8c28-a10372e4fa99",
   "metadata": {},
   "outputs": [
    {
     "name": "stdout",
     "output_type": "stream",
     "text": [
      "['x1', 'x2', 'x3', 'x4', 'x5', 'x6', 'x7'] ['x1', 'x2', 'x3', 'x4', 'x5', 'x6', 'x7']\n",
      "    beta_x0_c_G1  beta_x0_c_G2\n",
      "x1        7.0393       46.3565\n",
      "x2       -5.1902        7.0177\n",
      "x3        4.3100       -3.2720\n",
      "x4       -3.3767        0.5521\n",
      "x5        5.8358       -7.9274\n",
      "x6       10.0764       -0.9389\n",
      "x7       -5.6051       -6.5736\n",
      "Joint 1: left=29.507377, right=29.507377, diff=1.07e-14  (constraint OK)  (   )\n",
      "    beta_x0_LL_G1  beta_x0_LL_G2\n",
      "x1         7.6600        46.3337\n",
      "x2         3.8592        -2.6193\n",
      "x3        -5.0614         8.0289\n",
      "x4         5.5954        -6.4034\n",
      "x5        -4.5915         0.6121\n",
      "x6         6.9564         1.2443\n",
      "x7        -4.8048        -8.8670\n",
      "Joint 1: left=29.696501, right=29.696501, diff=3.55e-15  (constraint OK)  (   )\n"
     ]
    }
   ],
   "source": [
    "x0_c  = JointUtils.find_x0(Xc, y)\n",
    "x0_LL = JointUtils.find_x0_LL(Xc, y, L=1)\n",
    "regctr_x0c  = Joint2Regressor()\n",
    "resu_x0c    = regctr_x0c.fit_ols_jointure_a_b(X1c, X2c, y1, y2, x0_c, \n",
    "                                  y0=None, sigma_mode='one', cas='a')\n",
    "regctr_x0LL = Joint2Regressor()\n",
    "resu_x0LL   = regctr_x0LL.fit_ols_jointure_a_b(X1c, X2c, y1, y2, x0_LL, \n",
    "                                  y0=None, sigma_mode='one', cas='a')\n",
    "\n",
    "print(regctr_x0c.X_columns_, regctr_x0LL.X_columns_)\n",
    "print(JointKRegressor.display(regctr_x0c, \"beta_x0_c\"))\n",
    "JointUtils.check_jointure_constraint(resu_x0c[0],[x0_c])\n",
    "print(JointKRegressor.display(regctr_x0LL, \"beta_x0_LL\"))\n",
    "JointUtils.check_jointure_constraint(resu_x0LL[0],[x0_LL])\n",
    "# Joint2Regressor.predict(regctr_x0c,Xc,1)[:5]"
   ]
  },
  {
   "cell_type": "code",
   "execution_count": 11,
   "id": "4a492a5b-917c-4bcd-a09f-ad9e3e0215ad",
   "metadata": {},
   "outputs": [
    {
     "name": "stdout",
     "output_type": "stream",
     "text": [
      "        beta_G1_C1  beta_G2_C1\n",
      "const       7.0393     46.3562\n",
      "hstrs      -5.1902      7.0177\n",
      "financ      4.3100     -3.2720\n",
      "fear       -3.3767      0.5521\n",
      "angry       5.8357     -7.9274\n",
      "happy      10.0763     -0.9389\n",
      "bord       -5.6050     -6.5736\n"
     ]
    }
   ],
   "source": [
    "gmmreg = Joint2GMMRegressor()\n",
    "beta_mat, sigma2_1, sigma2_2 = gmmreg.fit(X1c, X2c, y1, y2, x0=x0_c, m1=1, m2=1,max_iter=10)\n",
    "print(Joint2GMMRegressor.display(gmmreg,\"beta\"))"
   ]
  },
  {
   "cell_type": "code",
   "execution_count": 12,
   "id": "9d1623de-74da-4e4c-b89e-c19d356f4712",
   "metadata": {},
   "outputs": [
    {
     "name": "stdout",
     "output_type": "stream",
     "text": [
      "        beta_G1_C1  beta_G1_C2  beta_G2_C1  beta_G2_C2\n",
      "const       7.6490      4.4406     46.0123     47.2639\n",
      "hstrs      -4.2729     -5.8737      7.7101      5.4304\n",
      "financ      3.0442      6.0747     -5.0522     -1.3369\n",
      "fear       -2.8366     -4.4864      4.5111     -1.4011\n",
      "angry       0.1446     29.4225    -10.2859     -5.5235\n",
      "happy       7.7955     20.1991     -9.8568      4.7118\n",
      "bord       -6.8140     -1.5245    -10.6694     -4.3168\n",
      "Joint: left=31.503881, right=31.503881, diff=0.00e+00 (constraint OK)\n"
     ]
    },
    {
     "data": {
      "text/plain": [
       "(0.0, True)"
      ]
     },
     "execution_count": 12,
     "metadata": {},
     "output_type": "execute_result"
    }
   ],
   "source": [
    "gmmreg = Joint2GMMRegressor()\n",
    "gmmreg.fit(X1c, X2c, y1, y2, x0=x0_c, m1=2, m2=2,max_iter=10)\n",
    "print(Joint2GMMRegressor.display(gmmreg,\"beta\"))\n",
    "Joint2GMMRegressor.check_jointure_constraint(gmmreg,x0_c,2,True)"
   ]
  },
  {
   "cell_type": "code",
   "execution_count": 13,
   "id": "ad6effa8-e84c-43c3-b279-c25d14e2ff6e",
   "metadata": {},
   "outputs": [
    {
     "name": "stdout",
     "output_type": "stream",
     "text": [
      "        beta_G1  beta_G2\n",
      "const    1.0844  51.4664\n",
      "hstrs   -1.0810   1.6608\n",
      "financ   0.3151   1.4477\n",
      "fear     0.3509  -1.5188\n",
      "angry   -1.2632  -2.0165\n",
      "happy    1.6020   3.8584\n",
      "bord    -3.6285  -5.5448\n"
     ]
    }
   ],
   "source": [
    "kreg = JointKRegressor()\n",
    "group_list = [(X1c,y1),(X2c,y2)]\n",
    "kreg.fit(group_list, joint_X_list=None, loss='quadratic', \n",
    "         tau=0.5, l1=0.0, l2=0.0, weights_list=None)\n",
    "print(JointKRegressor.display(kreg,\"beta\"))"
   ]
  },
  {
   "cell_type": "code",
   "execution_count": 14,
   "id": "2854d1a8-bad9-4067-bf70-1b29b359a778",
   "metadata": {},
   "outputs": [
    {
     "name": "stdout",
     "output_type": "stream",
     "text": [
      "        beta_G1  beta_G2\n",
      "const    7.0393  46.3565\n",
      "hstrs   -5.1902   7.0177\n",
      "financ   4.3100  -3.2720\n",
      "fear    -3.3767   0.5521\n",
      "angry    5.8358  -7.9274\n",
      "happy   10.0764  -0.9389\n",
      "bord    -5.6051  -6.5736\n",
      "Joint 1: left=29.507377, right=29.507377, diff=1.54e-07  (constraint OK)  (   )\n"
     ]
    }
   ],
   "source": [
    "kreg = JointKRegressor()\n",
    "betas = kreg.fit([(X1c,y1),(X2c,y2)], joint_X_list=[x0_c], loss='quadratic', \n",
    "         tau=0.5, l1=0.0, l2=0.0, weights_list=None) \n",
    "print(JointKRegressor.display(kreg,\"beta\"))\n",
    "JointUtils.check_jointure_constraint(betas,[x0_c],tol=1e-3)"
   ]
  },
  {
   "cell_type": "code",
   "execution_count": 15,
   "id": "c45e3c23-c7e1-4eba-8948-f6c0644ed90d",
   "metadata": {},
   "outputs": [
    {
     "name": "stdout",
     "output_type": "stream",
     "text": [
      "        beta_G1  beta_G2  beta_G3\n",
      "const    4.1740  32.4177  64.8290\n",
      "hstrs   -1.1739   3.6166   3.0070\n",
      "financ   0.7411  -3.6753   0.4303\n",
      "fear    -1.4684   2.9758  -2.6811\n",
      "angry    1.8887 -10.1307   1.8236\n",
      "happy    3.5840  -7.1827   5.3531\n",
      "bord    -3.2905  -2.3687  -3.3200\n"
     ]
    }
   ],
   "source": [
    "kreg = JointKRegressor()\n",
    "X2c1,X2c2,y21,y22  = JointUtils.split_at_y0(X2c,y2)\n",
    "jl = [x0_c,JointUtils.find_x0(X2c, y2)]\n",
    "\n",
    "betas = kreg.fit([(X1c,y1),(X2c1,y21),(X2c2,y22)], jl, loss='quantile', \n",
    "                 tau=0.5, l1=0.9, l2=0.3)\n",
    "print(JointKRegressor.display(kreg,\"beta\"))\n",
    "# JointKRegressor.predict(kreg,Xc,1)[:5]"
   ]
  },
  {
   "cell_type": "code",
   "execution_count": null,
   "id": "8707670b-e077-4f90-8f9d-978aa27562ff",
   "metadata": {},
   "outputs": [],
   "source": []
  },
  {
   "cell_type": "code",
   "execution_count": null,
   "id": "daa120b9-5e9a-4761-b9f1-522965dbf94e",
   "metadata": {},
   "outputs": [],
   "source": []
  },
  {
   "cell_type": "code",
   "execution_count": null,
   "id": "ab790e3b-8000-4f1d-bc57-ac711cdc65ec",
   "metadata": {},
   "outputs": [],
   "source": []
  },
  {
   "cell_type": "code",
   "execution_count": 16,
   "id": "5318c422-7538-475e-a877-3ec79bb3b71b",
   "metadata": {},
   "outputs": [
    {
     "name": "stdout",
     "output_type": "stream",
     "text": [
      "[-20886.83  41832.32  41787.66]\n",
      "[-9356.11 18766.19 18726.22]\n",
      "[-9461.39 18976.43 18936.79]\n"
     ]
    }
   ],
   "source": [
    "import statsmodels.api as sm\n",
    "model  = sm.OLS(y, Xc.values).fit()\n",
    "model1 = sm.OLS(y1, X1c.values).fit()\n",
    "model2 = sm.OLS(y2, X2c.values).fit()\n",
    "print(np.round([model.llf, model.bic, model.aic],2))\n",
    "print(np.round([model1.llf, model1.bic, model1.aic],2))\n",
    "print(np.round([model2.llf, model2.bic, model2.aic],2))"
   ]
  },
  {
   "cell_type": "code",
   "execution_count": null,
   "id": "35fab59a-3e7f-4a84-a153-d7ed279e3c67",
   "metadata": {},
   "outputs": [],
   "source": []
  }
 ],
 "metadata": {
  "kernelspec": {
   "display_name": "Python 3 (ipykernel)",
   "language": "python",
   "name": "python3"
  },
  "language_info": {
   "codemirror_mode": {
    "name": "ipython",
    "version": 3
   },
   "file_extension": ".py",
   "mimetype": "text/x-python",
   "name": "python",
   "nbconvert_exporter": "python",
   "pygments_lexer": "ipython3",
   "version": "3.11.7"
  }
 },
 "nbformat": 4,
 "nbformat_minor": 5
}
