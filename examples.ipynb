{
 "cells": [
  {
   "cell_type": "code",
   "execution_count": 1,
   "id": "0024e3d7-a707-44a3-826b-bd1525645dd6",
   "metadata": {},
   "outputs": [],
   "source": [
    "import warnings\n",
    "import os\n",
    "os.environ[\"OMP_NUM_THREADS\"] = \"6\"\n",
    "# warnings.filterwarnings(\"ignore\", message=\"KMeans is known to have a memory leak*\")\n",
    "# warnings.filterwarnings(\"ignore\", message=\"Solution may be inaccurate*\")"
   ]
  },
  {
   "cell_type": "code",
   "execution_count": 2,
   "id": "713491fe-a146-4569-8517-dbbdfe6d693b",
   "metadata": {},
   "outputs": [],
   "source": [
    "import numpy as np\n",
    "import pandas as pd\n",
    "\n",
    "from sklearn.preprocessing import PolynomialFeatures\n",
    "from sklearn.preprocessing import StandardScaler\n",
    "from sklearn.preprocessing import PolynomialFeatures\n",
    "\n",
    "import stratifreg\n",
    "from stratifreg.two_groups import Joint2Regressor\n",
    "from stratifreg.k_groups import JointKRegressor\n",
    "from stratifreg.gmm_groups import Joint2GMMRegressor\n",
    "from stratifreg.utils import JointUtils"
   ]
  },
  {
   "cell_type": "code",
   "execution_count": 3,
   "id": "4d6fe10c-57db-4e38-83ca-87b8c2953859",
   "metadata": {},
   "outputs": [
    {
     "name": "stdout",
     "output_type": "stream",
     "text": [
      "(5233, 21) (2617, 21) (2616, 21) (5233,) (2617,) (2616,)\n"
     ]
    }
   ],
   "source": [
    "def polynomial_tramsform(X, degree=2, include_bias=False):\n",
    "    \"\"\"\n",
    "    Transforme un X (n, p) en toutes les colonnes de polynômes croisés jusqu'à 'degree'\n",
    "    Exemple : degree=2 → 1, x1, x2, ..., x1^2, x2^2, x1*x2, etc.\n",
    "    \"\"\"\n",
    "    poly = PolynomialFeatures(degree=degree, include_bias=include_bias)\n",
    "    X_poly       = poly.fit_transform(X)\n",
    "    colname_poly = poly.get_feature_names_out(X.columns)\n",
    "    return X_poly, colname_poly\n",
    "\n",
    "def get_data(path_X,path_y,scale=False,degree=0):\n",
    "    scaler = StandardScaler()\n",
    "    X = pd.read_csv(path_X)\n",
    "    y = pd.read_csv(path_y)\n",
    "    columnsXpoly = X.columns\n",
    "    if degree>1: \n",
    "        X_poly,columnsXpoly = polynomial_tramsform(X,degree,False)\n",
    "        X = X_poly\n",
    "    X = JointUtils._as_numpy(X)\n",
    "    y = JointUtils._as_numpy(y)\n",
    "    y_med  = np.median(y)\n",
    "    X  = pd.DataFrame(scaler.fit_transform(X), columns=columnsXpoly)\n",
    "    X1,X2,y1,y2  = JointUtils.split_by_median(X,y, group_mode='median')\n",
    "    if scale:\n",
    "        X = scaler.fit_transform(X)\n",
    "        #X1 = scaler.fit_transform(X1)\n",
    "        #X2 = scaler.fit_transform(X2)\n",
    "    Xc          = JointUtils.add_intercept(X)\n",
    "    X1c         = JointUtils.add_intercept(X1)\n",
    "    X2c         = JointUtils.add_intercept(X2)\n",
    "    return X,Xc,y,X1,X1c,y1,X2,X2c,y2,y_med,columnsXpoly\n",
    "\n",
    "X,Xc,y,X1,X1c,y1,X2,X2c,y2,y_med,varnames = get_data('./datasets/Xf_all_pisa2009.csv',\n",
    "                                                     './datasets/yf_all_pisa2009.csv')\n",
    "print(Xc.shape,X1c.shape,X2c.shape,y.shape,y1.shape,y2.shape)"
   ]
  },
  {
   "cell_type": "code",
   "execution_count": 4,
   "id": "88d1cb99-8a21-49bc-a8e7-694969e5b06e",
   "metadata": {},
   "outputs": [
    {
     "name": "stdout",
     "output_type": "stream",
     "text": [
      "                        beta_G1   beta_G2\n",
      "intercept              429.1046  567.0030\n",
      "grade                   11.0405    4.5989\n",
      "male                    -5.8751   -1.1844\n",
      "preschool               -0.6471    0.9720\n",
      "expectBachelors          8.4561    8.7844\n",
      "motherHS                 1.5719    3.5218\n",
      "motherWork              -0.2293   -1.0314\n",
      "fatherHS                -1.1754    2.6983\n",
      "fatherWork               2.4267    1.1416\n",
      "selfBornUS               0.9349   -0.4593\n",
      "motherBornUS            -3.4363   -0.8055\n",
      "fatherBornUS             4.4797    0.7524\n",
      "englishAtHome            0.2141    2.8923\n",
      "computerForSchoolwork    2.6771    5.2545\n",
      "read30MinsADay           6.9398    7.1604\n",
      "minutesPerWeekEnglish    2.9924    0.8825\n",
      "studentsInEnglish        1.4447   -1.4161\n",
      "schoolHasLibrary         0.6375   -1.2080\n",
      "publicSchool            -5.0229   -4.4337\n",
      "urban                   -8.0699   -3.4086\n",
      "schoolSize               4.9003    4.6376\n"
     ]
    }
   ],
   "source": [
    "reg = Joint2Regressor()\n",
    "[beta1, beta2], var_beta, sigma2s = reg.fit_ols_groups(X1c, X2c, y1, y2, sigma_mode='two')\n",
    "print(Joint2Regressor.display(reg, varnames,\"beta\"))"
   ]
  },
  {
   "cell_type": "code",
   "execution_count": 5,
   "id": "d21becf8-7cc2-4174-b629-c7aa5b0ec31e",
   "metadata": {},
   "outputs": [
    {
     "name": "stdout",
     "output_type": "stream",
     "text": [
      "                       model_G1  model_G2\n",
      "intercept              429.1046  567.0030\n",
      "grade                   11.0405    4.5989\n",
      "male                    -5.8751   -1.1844\n",
      "preschool               -0.6471    0.9720\n",
      "expectBachelors          8.4561    8.7844\n",
      "motherHS                 1.5719    3.5218\n",
      "motherWork              -0.2293   -1.0314\n",
      "fatherHS                -1.1754    2.6983\n",
      "fatherWork               2.4267    1.1416\n",
      "selfBornUS               0.9349   -0.4593\n",
      "motherBornUS            -3.4363   -0.8055\n",
      "fatherBornUS             4.4797    0.7524\n",
      "englishAtHome            0.2141    2.8923\n",
      "computerForSchoolwork    2.6771    5.2545\n",
      "read30MinsADay           6.9398    7.1604\n",
      "minutesPerWeekEnglish    2.9924    0.8825\n",
      "studentsInEnglish        1.4447   -1.4161\n",
      "schoolHasLibrary         0.6375   -1.2080\n",
      "publicSchool            -5.0229   -4.4337\n",
      "urban                   -8.0699   -3.4086\n",
      "schoolSize               4.9003    4.6376\n"
     ]
    }
   ],
   "source": [
    "kreg = JointKRegressor()\n",
    "kreg.fit([(X1c,y1),(X2c,y2)], joint_X_list=None, loss='quadratic', \n",
    "         tau=0.0, l1=0., l2=0., weights_list=None)\n",
    "print(JointKRegressor.display(kreg,varnames))"
   ]
  },
  {
   "cell_type": "code",
   "execution_count": 6,
   "id": "e17d4301-e207-42e7-8058-7e7b35e7ac2c",
   "metadata": {},
   "outputs": [
    {
     "name": "stdout",
     "output_type": "stream",
     "text": [
      "                        beta_G1   beta_G2\n",
      "intercept              429.1046  567.0030\n",
      "grade                   11.0405    4.5989\n",
      "male                    -5.8751   -1.1844\n",
      "preschool               -0.6471    0.9720\n",
      "expectBachelors          8.4561    8.7844\n",
      "motherHS                 1.5719    3.5218\n",
      "motherWork              -0.2293   -1.0314\n",
      "fatherHS                -1.1754    2.6983\n",
      "fatherWork               2.4267    1.1416\n",
      "selfBornUS               0.9349   -0.4593\n",
      "motherBornUS            -3.4363   -0.8055\n",
      "fatherBornUS             4.4797    0.7524\n",
      "englishAtHome            0.2141    2.8923\n",
      "computerForSchoolwork    2.6771    5.2545\n",
      "read30MinsADay           6.9398    7.1604\n",
      "minutesPerWeekEnglish    2.9924    0.8825\n",
      "studentsInEnglish        1.4447   -1.4161\n",
      "schoolHasLibrary         0.6375   -1.2080\n",
      "publicSchool            -5.0229   -4.4337\n",
      "urban                   -8.0699   -3.4086\n",
      "schoolSize               4.9003    4.6376\n"
     ]
    }
   ],
   "source": [
    "gmmreg = Joint2GMMRegressor()\n",
    "gmmreg.fit(X1c, X2c, y1, y2, x0=None, m1=1, m2=1, max_iter=10)\n",
    "print(Joint2Regressor.display(reg, varnames,\"beta\"))"
   ]
  },
  {
   "cell_type": "code",
   "execution_count": 7,
   "id": "c7ce0056-4e55-4ddb-a2e2-4da1d03dff6b",
   "metadata": {},
   "outputs": [
    {
     "name": "stdout",
     "output_type": "stream",
     "text": [
      "                        beta_G1   beta_G2\n",
      "intercept              437.0845  559.4569\n",
      "grade                   11.7695    5.4426\n",
      "male                    -5.7821    0.6490\n",
      "preschool               -1.1196    1.1562\n",
      "expectBachelors          9.3885    7.0089\n",
      "motherHS                 1.5008    3.5598\n",
      "motherWork               0.5145   -1.6296\n",
      "fatherHS                 0.2979    2.7998\n",
      "fatherWork               1.8221    1.4218\n",
      "selfBornUS               0.2281   -1.0654\n",
      "motherBornUS            -3.7267    1.9931\n",
      "fatherBornUS             4.3446    0.8473\n",
      "englishAtHome            1.6464    2.1613\n",
      "computerForSchoolwork    3.1679    4.1352\n",
      "read30MinsADay           7.2324    8.9806\n",
      "minutesPerWeekEnglish    3.9388    0.3497\n",
      "studentsInEnglish        1.9966    0.1433\n",
      "schoolHasLibrary         0.3213    0.1706\n",
      "publicSchool            -4.4313   -4.5537\n",
      "urban                   -8.9701   -4.0807\n",
      "schoolSize               4.1590    3.9762\n"
     ]
    },
    {
     "name": "stderr",
     "output_type": "stream",
     "text": [
      "C:\\Users\\prima\\anaconda3\\Lib\\site-packages\\cvxpy\\problems\\problem.py:1504: UserWarning: Solution may be inaccurate. Try another solver, adjusting the solver settings, or solve with verbose=True for more information.\n",
      "  warnings.warn(\n"
     ]
    }
   ],
   "source": [
    "kreg = JointKRegressor()\n",
    "kreg.fit([(X1c,y1),(X2c,y2)], joint_X_list=None, loss='quantile', \n",
    "                   tau=0.5, l1=0., l2=0., weights_list=None)\n",
    "print(JointKRegressor.display(kreg, varnames,\"beta\"))"
   ]
  },
  {
   "cell_type": "code",
   "execution_count": 8,
   "id": "c117fdcc-9bb3-4d42-8c28-a10372e4fa99",
   "metadata": {},
   "outputs": [
    {
     "name": "stdout",
     "output_type": "stream",
     "text": [
      "                       beta_x0_c_G1  beta_x0_c_G2\n",
      "intercept                  438.8995      559.5514\n",
      "grade                       11.4696        7.5060\n",
      "male                       -16.6517        8.0844\n",
      "preschool                    3.1846       -3.5623\n",
      "expectBachelors             13.9412        5.0502\n",
      "motherHS                     4.5632        1.8536\n",
      "motherWork                 -15.3244       15.1007\n",
      "fatherHS                    -0.6980        0.0647\n",
      "fatherWork                   6.3868       -1.6806\n",
      "selfBornUS                   1.3851       -1.5738\n",
      "motherBornUS                -2.2995       -1.6334\n",
      "fatherBornUS                 6.2653       -0.4415\n",
      "englishAtHome               -0.1276        3.3157\n",
      "computerForSchoolwork        5.1355        2.8832\n",
      "read30MinsADay              -1.2981       14.7178\n",
      "minutesPerWeekEnglish        5.3840       -1.4252\n",
      "studentsInEnglish           -3.4148        3.3783\n",
      "schoolHasLibrary             1.5168       -2.5880\n",
      "publicSchool                -3.1460       -7.4924\n",
      "urban                      -11.2209       -1.9874\n",
      "schoolSize                   2.8394        8.7185\n",
      "                       beta_x0_LL_G1  beta_x0_LL_G2\n",
      "intercept                   446.8750       552.2825\n",
      "grade                        12.0356         9.7667\n",
      "male                        -10.1598        -0.1501\n",
      "preschool                   -11.0310        11.2683\n",
      "expectBachelors              19.7653         0.7331\n",
      "motherHS                      4.9297         2.2400\n",
      "motherWork                  -10.1386         9.7619\n",
      "fatherHS                      0.4095        -1.7667\n",
      "fatherWork                    8.8263        -4.4857\n",
      "selfBornUS                    2.4412        -2.5773\n",
      "motherBornUS                 -0.6548        -2.6756\n",
      "fatherBornUS                  8.3355        -1.7842\n",
      "englishAtHome                -0.2680         3.8062\n",
      "computerForSchoolwork         7.4842         0.4830\n",
      "read30MinsADay               -3.4639        17.9273\n",
      "minutesPerWeekEnglish         4.0953         1.1230\n",
      "studentsInEnglish           -13.5687        13.9445\n",
      "schoolHasLibrary              2.5099        -3.7183\n",
      "publicSchool                 -3.8795        -8.9401\n",
      "urban                       -16.5275         1.7644\n",
      "schoolSize                    7.5974         3.6259\n"
     ]
    }
   ],
   "source": [
    "x0_c  = JointUtils.find_x0(Xc, y, y_med)\n",
    "x0_LL = JointUtils.find_x0_LL(Xc, y, y_med, L=1)\n",
    "regctr_x0c  = Joint2Regressor()\n",
    "resu_x0c    = regctr_x0c.fit_ols_jointure_a_b(X1c, X2c, y1, y2, x0_c, \n",
    "                                  y0=None, sigma_mode='one', cas='a')\n",
    "regctr_x0LL = Joint2Regressor()\n",
    "resu_x0LL   = regctr_x0LL.fit_ols_jointure_a_b(X1c, X2c, y1, y2, x0_LL, \n",
    "                                  y0=None, sigma_mode='one', cas='a')\n",
    "print(Joint2Regressor.display(regctr_x0c, varnames,\"beta_x0_c\"))\n",
    "print(Joint2Regressor.display(regctr_x0LL, varnames,\"beta_x0_LL\"))"
   ]
  },
  {
   "cell_type": "code",
   "execution_count": 9,
   "id": "4a492a5b-917c-4bcd-a09f-ad9e3e0215ad",
   "metadata": {},
   "outputs": [
    {
     "name": "stdout",
     "output_type": "stream",
     "text": [
      "                       beta_G1_C1  beta_G2_C1\n",
      "intercept                438.8975    559.5485\n",
      "grade                     11.4694      7.5066\n",
      "male                     -16.6516      8.0843\n",
      "preschool                  3.1847     -3.5623\n",
      "expectBachelors           13.9409      5.0513\n",
      "motherHS                   4.5632      1.8537\n",
      "motherWork               -15.3244     15.1007\n",
      "fatherHS                  -0.6980      0.0649\n",
      "fatherWork                 6.3867     -1.6805\n",
      "selfBornUS                 1.3851     -1.5738\n",
      "motherBornUS              -2.2993     -1.6334\n",
      "fatherBornUS               6.2652     -0.4415\n",
      "englishAtHome             -0.1277      3.3158\n",
      "computerForSchoolwork      5.1354      2.8836\n",
      "read30MinsADay            -1.2986     14.7181\n",
      "minutesPerWeekEnglish      5.3840     -1.4251\n",
      "studentsInEnglish         -3.4148      3.3784\n",
      "schoolHasLibrary           1.5168     -2.5880\n",
      "publicSchool              -3.1455     -7.4926\n",
      "urban                    -11.2206     -1.9876\n",
      "schoolSize                 2.8391      8.7187\n"
     ]
    }
   ],
   "source": [
    "gmmreg = Joint2GMMRegressor()\n",
    "gmmreg.fit(X1c, X2c, y1, y2, x0=x0_c, m1=1, m2=1,max_iter=10)\n",
    "print(Joint2GMMRegressor.display(gmmreg,varnames,\"beta\"))"
   ]
  },
  {
   "cell_type": "code",
   "execution_count": 10,
   "id": "9d1623de-74da-4e4c-b89e-c19d356f4712",
   "metadata": {},
   "outputs": [
    {
     "name": "stdout",
     "output_type": "stream",
     "text": [
      "                       beta_G1_C1  beta_G1_C2  beta_G2_C1  beta_G2_C2\n",
      "intercept                448.5377    431.0647    561.2821    556.7912\n",
      "grade                      7.2766     14.2322      9.6897      1.3713\n",
      "male                     -15.4754    -17.0786      5.5329     12.5421\n",
      "preschool                  5.7379      1.5769     -0.9835     -8.7211\n",
      "expectBachelors            8.4855     17.3604      6.7643      1.3507\n",
      "motherHS                   2.8906      5.6842      3.6514     -2.3095\n",
      "motherWork               -22.6686    -11.2553      8.3963     29.9581\n",
      "fatherHS                   1.2346     -2.4681      0.7897     -1.7047\n",
      "fatherWork                 2.2955      8.6699      1.0813     -7.9313\n",
      "selfBornUS                -8.6964      8.9909     -4.1359      5.3361\n",
      "motherBornUS               1.4351     -4.6866      0.1749     -5.8109\n",
      "fatherBornUS               3.4190      7.4635     -1.6587      3.0433\n",
      "englishAtHome              6.7717     -4.5939      4.0472      0.3341\n",
      "computerForSchoolwork      3.0049      6.9172      3.4869      2.2058\n",
      "read30MinsADay            -4.1847      0.7661     12.3425     19.4454\n",
      "minutesPerWeekEnglish      4.7381      5.5876     -2.2297      0.2924\n",
      "studentsInEnglish         -2.9012     -3.8217      3.3150      2.9054\n",
      "schoolHasLibrary           5.7964     -1.8031     -0.7047     -6.8819\n",
      "publicSchool              -0.4883     -5.2299     -5.7514    -10.2660\n",
      "urban                     -7.0182    -13.7762     -4.8797      5.2935\n",
      "schoolSize                -1.3385      5.4111      8.5414      8.2318\n"
     ]
    }
   ],
   "source": [
    "gmmreg = Joint2GMMRegressor()\n",
    "gmmreg.fit(X1c, X2c, y1, y2, x0=x0_c, m1=2, m2=2,max_iter=10)\n",
    "print(Joint2GMMRegressor.display(gmmreg,varnames,\"beta\"))"
   ]
  },
  {
   "cell_type": "code",
   "execution_count": 11,
   "id": "ad6effa8-e84c-43c3-b279-c25d14e2ff6e",
   "metadata": {},
   "outputs": [
    {
     "name": "stdout",
     "output_type": "stream",
     "text": [
      "                        beta_G1   beta_G2\n",
      "intercept              429.1046  567.0030\n",
      "grade                   11.0405    4.5989\n",
      "male                    -5.8751   -1.1844\n",
      "preschool               -0.6471    0.9720\n",
      "expectBachelors          8.4561    8.7844\n",
      "motherHS                 1.5719    3.5218\n",
      "motherWork              -0.2293   -1.0314\n",
      "fatherHS                -1.1754    2.6983\n",
      "fatherWork               2.4267    1.1416\n",
      "selfBornUS               0.9349   -0.4593\n",
      "motherBornUS            -3.4363   -0.8055\n",
      "fatherBornUS             4.4797    0.7524\n",
      "englishAtHome            0.2141    2.8923\n",
      "computerForSchoolwork    2.6771    5.2545\n",
      "read30MinsADay           6.9398    7.1604\n",
      "minutesPerWeekEnglish    2.9924    0.8825\n",
      "studentsInEnglish        1.4447   -1.4161\n",
      "schoolHasLibrary         0.6375   -1.2080\n",
      "publicSchool            -5.0229   -4.4337\n",
      "urban                   -8.0699   -3.4086\n",
      "schoolSize               4.9003    4.6376\n"
     ]
    }
   ],
   "source": [
    "kreg = JointKRegressor()\n",
    "group_list = [(X1c,y1),(X2c,y2)]\n",
    "kreg.fit(group_list, joint_X_list=None, loss='quadratic', \n",
    "         tau=0.5, l1=0.0, l2=0.0, weights_list=None)\n",
    "print(JointKRegressor.display(kreg,varnames,\"beta\"))"
   ]
  },
  {
   "cell_type": "code",
   "execution_count": 12,
   "id": "2854d1a8-bad9-4067-bf70-1b29b359a778",
   "metadata": {},
   "outputs": [
    {
     "name": "stdout",
     "output_type": "stream",
     "text": [
      "                       model_G1  model_G2\n",
      "intercept              438.8995  559.5514\n",
      "grade                   11.4696    7.5060\n",
      "male                   -16.6517    8.0844\n",
      "preschool                3.1846   -3.5623\n",
      "expectBachelors         13.9412    5.0502\n",
      "motherHS                 4.5632    1.8536\n",
      "motherWork             -15.3244   15.1007\n",
      "fatherHS                -0.6980    0.0647\n",
      "fatherWork               6.3868   -1.6806\n",
      "selfBornUS               1.3851   -1.5738\n",
      "motherBornUS            -2.2995   -1.6334\n",
      "fatherBornUS             6.2653   -0.4415\n",
      "englishAtHome           -0.1276    3.3157\n",
      "computerForSchoolwork    5.1355    2.8832\n",
      "read30MinsADay          -1.2981   14.7178\n",
      "minutesPerWeekEnglish    5.3840   -1.4252\n",
      "studentsInEnglish       -3.4148    3.3783\n",
      "schoolHasLibrary         1.5168   -2.5880\n",
      "publicSchool            -3.1460   -7.4924\n",
      "urban                  -11.2209   -1.9874\n",
      "schoolSize               2.8394    8.7185\n"
     ]
    }
   ],
   "source": [
    "kreg = JointKRegressor()\n",
    "kreg.fit([(X1c,y1),(X2c,y2)], joint_X_list=[x0_c], loss='quadratic', \n",
    "         tau=0.5, l1=0.0, l2=0.0, weights_list=None) \n",
    "print(JointKRegressor.display(kreg,varnames))"
   ]
  },
  {
   "cell_type": "code",
   "execution_count": 13,
   "id": "8fc2f08b-d81a-40b7-bc03-28d2b2a17272",
   "metadata": {},
   "outputs": [
    {
     "name": "stdout",
     "output_type": "stream",
     "text": [
      "                       beta_S_x0__G1  beta_S_x0__G2\n",
      "intercept                   429.7152       566.5385\n",
      "grade                        11.0673         4.7801\n",
      "male                         -6.5469        -0.6065\n",
      "preschool                    -0.4082         0.6893\n",
      "expectBachelors               8.7981         8.5516\n",
      "motherHS                      1.7584         3.4178\n",
      "motherWork                   -1.1704        -0.0257\n",
      "fatherHS                     -1.1457         2.5341\n",
      "fatherWork                    2.6736         0.9656\n",
      "selfBornUS                    0.9629        -0.5288\n",
      "motherBornUS                 -3.3654        -0.8571\n",
      "fatherBornUS                  4.5911         0.6780\n",
      "englishAtHome                 0.1928         2.9187\n",
      "computerForSchoolwork         2.8304         5.1067\n",
      "read30MinsADay                6.4262         7.6316\n",
      "minutesPerWeekEnglish         3.1415         0.7387\n",
      "studentsInEnglish             1.1417        -1.1172\n",
      "schoolHasLibrary              0.6923        -1.2941\n",
      "publicSchool                 -4.9059        -4.6243\n",
      "urban                        -8.2664        -3.3200\n",
      "schoolSize                    4.7718         4.8920\n"
     ]
    }
   ],
   "source": [
    "reg = Joint2Regressor()\n",
    "betas, var_beta, sigma2s = reg.fit_ols_jointure_smoothed(X1c, X2c, y1, y2, x0_c, lc=10.0)\n",
    "print(Joint2Regressor.display(reg, varnames,\"beta_S_x0_\"))"
   ]
  },
  {
   "cell_type": "code",
   "execution_count": 14,
   "id": "c45e3c23-c7e1-4eba-8948-f6c0644ed90d",
   "metadata": {},
   "outputs": [
    {
     "name": "stdout",
     "output_type": "stream",
     "text": [
      "                        beta_G1   beta_G2   beta_G3\n",
      "intercept              421.9505  499.7697  467.9224\n",
      "grade                   11.7152    6.2277   19.7314\n",
      "male                   -11.4010    1.0222    3.6255\n",
      "preschool                1.9114    0.7215   -4.6998\n",
      "expectBachelors          9.9677   11.5515  122.0057\n",
      "motherHS                 3.8498    0.4254   28.8220\n",
      "motherWork              -7.0024   20.4760   -5.2160\n",
      "fatherHS                -1.0503    0.2344   28.3146\n",
      "fatherWork               3.7750    1.5969   -0.6216\n",
      "selfBornUS               0.9638   -1.2560   -1.0333\n",
      "motherBornUS            -2.3970   -0.0229    1.2182\n",
      "fatherBornUS             3.8383   -0.0803   -3.0587\n",
      "englishAtHome           -0.1652    1.6295   11.8564\n",
      "computerForSchoolwork    2.4054    4.9380   48.2035\n",
      "read30MinsADay          -1.3108   15.5170    5.2641\n",
      "minutesPerWeekEnglish    4.6316   -4.2186   13.3267\n",
      "studentsInEnglish       -1.1330    1.3142    6.2105\n",
      "schoolHasLibrary         1.3290    0.0935   -2.9074\n",
      "publicSchool             1.9491   -3.0987   -9.2138\n",
      "urban                   -7.3633   -4.2007   -1.5885\n",
      "schoolSize               0.9274    1.1110   12.7421\n"
     ]
    }
   ],
   "source": [
    "kreg = JointKRegressor()\n",
    "#X1c1,X1c2,y11,y12  = JointUtils.split_by_median(X1c,y1, group_mode='median')\n",
    "X2c1,X2c2,y21,y22  = JointUtils.split_by_median(X2c,y2, group_mode='median')\n",
    "jl = [x0_c,JointUtils.find_x0(X2c, y2, np.median(y2))]             \n",
    "betas = kreg.fit([(X1c,y1),(X2c1,y21),(X2c2,y22)], jl, loss='quantile', tau=0.5, l1=0.9, l2=0.37)\n",
    "print(JointKRegressor.display(kreg,varnames,\"beta\"))"
   ]
  },
  {
   "cell_type": "code",
   "execution_count": null,
   "id": "d1558f15-fb03-4e16-a2f7-a8ae626d98c6",
   "metadata": {},
   "outputs": [],
   "source": []
  }
 ],
 "metadata": {
  "kernelspec": {
   "display_name": "Python 3 (ipykernel)",
   "language": "python",
   "name": "python3"
  },
  "language_info": {
   "codemirror_mode": {
    "name": "ipython",
    "version": 3
   },
   "file_extension": ".py",
   "mimetype": "text/x-python",
   "name": "python",
   "nbconvert_exporter": "python",
   "pygments_lexer": "ipython3",
   "version": "3.11.7"
  }
 },
 "nbformat": 4,
 "nbformat_minor": 5
}
