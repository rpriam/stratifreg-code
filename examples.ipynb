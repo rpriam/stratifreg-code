{
 "cells": [
  {
   "cell_type": "code",
   "execution_count": null,
   "id": "0024e3d7-a707-44a3-826b-bd1525645dd6",
   "metadata": {},
   "outputs": [],
   "source": [
    "import warnings\n",
    "import os\n",
    "os.environ[\"OMP_NUM_THREADS\"] = \"6\"\n",
    "# warnings.filterwarnings(\"ignore\", message=\"KMeans is known to have a memory leak*\")\n",
    "# warnings.filterwarnings(\"ignore\", message=\"Solution may be inaccurate*\")"
   ]
  },
  {
   "cell_type": "code",
   "execution_count": null,
   "id": "713491fe-a146-4569-8517-dbbdfe6d693b",
   "metadata": {},
   "outputs": [],
   "source": [
    "import numpy as np\n",
    "import pandas as pd\n",
    "\n",
    "from sklearn.preprocessing import PolynomialFeatures\n",
    "from sklearn.preprocessing import StandardScaler\n",
    "from sklearn.preprocessing import PolynomialFeatures\n",
    "\n",
    "import stratifreg\n",
    "from stratifreg.two_groups import Joint2Regressor\n",
    "from stratifreg.k_groups import JointKRegressor\n",
    "from stratifreg.gmm_groups import Joint2GMMRegressor\n",
    "from stratifreg.utils import JointUtils"
   ]
  },
  {
   "cell_type": "code",
   "execution_count": null,
   "id": "4d6fe10c-57db-4e38-83ca-87b8c2953859",
   "metadata": {},
   "outputs": [],
   "source": [
    "def polynomial_tramsform(X, degree=2, include_bias=False):\n",
    "    \"\"\"\n",
    "    Transform a DataFrame Pandas/Array Numpy [ X (n, p) ] with polynoms \n",
    "    Example : degree = 2 -> 1, x1, x2, ..., x1^2, x2^2, x1*x2, etc.\n",
    "    \"\"\"\n",
    "    poly = PolynomialFeatures(degree=degree, include_bias=include_bias)\n",
    "    X_poly       = poly.fit_transform(X)\n",
    "    colname_poly = poly.get_feature_names_out(X.columns)\n",
    "    X_poly_df = pd.DataFrame(X_poly, columns=colname_poly, index=X.index)\n",
    "    return X_poly_df, colname_poly\n",
    "\n",
    "def get_data(path_X,path_y,scale=False,degree=0):\n",
    "    scaler = StandardScaler()\n",
    "    X = pd.read_csv(path_X)\n",
    "    y = pd.read_csv(path_y)\n",
    "    columnsXpoly = X.columns\n",
    "    if degree>1: \n",
    "        X,columnsXpoly = polynomial_tramsform(X,degree,False)\n",
    "    X  = pd.DataFrame(scaler.fit_transform(X), columns=columnsXpoly)\n",
    "    X1,X2,y1,y2  = JointUtils.split_at_y0(X,y)\n",
    "    if scale: X = scaler.fit_transform(X)\n",
    "    if scale: X1 = scaler.fit_transform(X1)\n",
    "    if scale: X2 = scaler.fit_transform(X2)\n",
    "    Xc          = JointUtils.add_intercept(X)\n",
    "    X1c         = JointUtils.add_intercept(X1)\n",
    "    X2c         = JointUtils.add_intercept(X2)\n",
    "    return X,Xc,y,X1,X1c,y1,X2,X2c,y2,columnsXpoly\n",
    "\n",
    "X,Xc,y,X1,X1c,y1,X2,X2c,y2,varnames = get_data('./datasets/Xf_all_datasurvey.csv',\n",
    "                                               './datasets/yf_all_datasurvey.csv')\n",
    "print(Xc.shape,X1c.shape,X2c.shape,y.shape,y1.shape,y2.shape)"
   ]
  },
  {
   "cell_type": "code",
   "execution_count": null,
   "id": "5489517b-338c-477a-b93f-2ca9b6a45b9e",
   "metadata": {},
   "outputs": [],
   "source": [
    "print(X.shape, X1c.shape,X2c.shape)\n",
    "print(X.head())"
   ]
  },
  {
   "cell_type": "code",
   "execution_count": null,
   "id": "a3873edc-968c-43ab-b94e-614fb19413e4",
   "metadata": {},
   "outputs": [],
   "source": [
    "reg1 = Joint2Regressor()\n",
    "[beta], var_beta, sigma2s = reg1.fit_ols_single(Xc, y)\n",
    "print(JointKRegressor.display(reg1, \"beta\"))\n",
    "print(np.round([reg1.variables_[\"lgk\"],reg1.variables_[\"bic\"],reg1.variables_[\"aic\"]],2))"
   ]
  },
  {
   "cell_type": "code",
   "execution_count": null,
   "id": "88d1cb99-8a21-49bc-a8e7-694969e5b06e",
   "metadata": {},
   "outputs": [],
   "source": [
    "reg = Joint2Regressor()\n",
    "[beta1, beta2], sigma2s = reg.fit_ols_groups(X1c, X2c, y1, y2, sigma_mode='two')\n",
    "print(JointKRegressor.display(reg, \"beta\"))\n",
    "print(np.round([reg.lgk1_,reg.bic1_,reg.aic1_],2))\n",
    "print(np.round([reg.lgk2_,reg.bic2_,reg.aic2_],2))"
   ]
  },
  {
   "cell_type": "code",
   "execution_count": null,
   "id": "d21becf8-7cc2-4174-b629-c7aa5b0ec31e",
   "metadata": {},
   "outputs": [],
   "source": [
    "kreg = JointKRegressor()\n",
    "rr = kreg.fit([(X1c,y1),(X2c,y2)], joint_X_list=None, loss='quadratic', \n",
    "         tau=0.0, l1=0., l2=0., weights_list=None)\n",
    "print(kreg.X_columns_,len(kreg.X_columns_),len(rr[0]))\n",
    "print(JointKRegressor.display(kreg, \"beta\"))"
   ]
  },
  {
   "cell_type": "code",
   "execution_count": null,
   "id": "e17d4301-e207-42e7-8058-7e7b35e7ac2c",
   "metadata": {},
   "outputs": [],
   "source": [
    "gmmreg = Joint2GMMRegressor()\n",
    "gmmreg.fit(X1c, X2c, y1, y2, x0=None, m1=1, m2=1, max_iter=10)\n",
    "print(Joint2GMMRegressor.display(gmmreg, \"beta\"))\n",
    "# print(Joint2GMMRegressor.predict(gmmreg, Xc,\"beta\")[:5])"
   ]
  },
  {
   "cell_type": "code",
   "execution_count": null,
   "id": "c7ce0056-4e55-4ddb-a2e2-4da1d03dff6b",
   "metadata": {},
   "outputs": [],
   "source": [
    "kreg = JointKRegressor()\n",
    "kreg.fit([(X1c,y1),(X2c,y2)], joint_X_list=None, loss='quantile', \n",
    "                   tau=0.5, l1=0., l2=0., weights_list=None)\n",
    "print(JointKRegressor.display(kreg, \"beta\"))"
   ]
  },
  {
   "cell_type": "code",
   "execution_count": null,
   "id": "c117fdcc-9bb3-4d42-8c28-a10372e4fa99",
   "metadata": {},
   "outputs": [],
   "source": [
    "x0_c  = JointUtils.find_x0(Xc, y)\n",
    "x0_LL = JointUtils.find_x0_LL(Xc, y, L=1)\n",
    "regctr_x0c  = Joint2Regressor()\n",
    "resu_x0c    = regctr_x0c.fit_ols_jointure_a_b(X1c, X2c, y1, y2, x0_c, \n",
    "                                  y0=None, sigma_mode='one', cas='a')\n",
    "regctr_x0LL = Joint2Regressor()\n",
    "resu_x0LL   = regctr_x0LL.fit_ols_jointure_a_b(X1c, X2c, y1, y2, x0_LL, \n",
    "                                  y0=None, sigma_mode='one', cas='a')\n",
    "\n",
    "print(regctr_x0c.X_columns_, regctr_x0LL.X_columns_)\n",
    "print(JointKRegressor.display(regctr_x0c, \"beta_x0_c\"))\n",
    "JointUtils.check_jointure_constraint(resu_x0c[0],[x0_c])\n",
    "print(JointKRegressor.display(regctr_x0LL, \"beta_x0_LL\"))\n",
    "JointUtils.check_jointure_constraint(resu_x0LL[0],[x0_LL])\n",
    "# Joint2Regressor.predict(regctr_x0c,Xc,1) [:5]"
   ]
  },
  {
   "cell_type": "code",
   "execution_count": null,
   "id": "4a492a5b-917c-4bcd-a09f-ad9e3e0215ad",
   "metadata": {},
   "outputs": [],
   "source": [
    "gmmreg = Joint2GMMRegressor()\n",
    "beta_mat, sigma2_1, sigma2_2 = gmmreg.fit(X1c, X2c, y1, y2, x0=x0_c, m1=1, m2=1,max_iter=10)\n",
    "print(Joint2GMMRegressor.display(gmmreg,\"beta\"))"
   ]
  },
  {
   "cell_type": "code",
   "execution_count": null,
   "id": "9d1623de-74da-4e4c-b89e-c19d356f4712",
   "metadata": {},
   "outputs": [],
   "source": [
    "gmmreg = Joint2GMMRegressor()\n",
    "gmmreg.fit(X1c, X2c, y1, y2, x0=x0_c, m1=2, m2=2,max_iter=10)\n",
    "print(Joint2GMMRegressor.display(gmmreg,\"beta\"))"
   ]
  },
  {
   "cell_type": "code",
   "execution_count": null,
   "id": "ad6effa8-e84c-43c3-b279-c25d14e2ff6e",
   "metadata": {},
   "outputs": [],
   "source": [
    "kreg = JointKRegressor()\n",
    "group_list = [(X1c,y1),(X2c,y2)]\n",
    "kreg.fit(group_list, joint_X_list=None, loss='quadratic', \n",
    "         tau=0.5, l1=0.0, l2=0.0, weights_list=None)\n",
    "print(JointKRegressor.display(kreg,\"beta\"))"
   ]
  },
  {
   "cell_type": "code",
   "execution_count": null,
   "id": "2854d1a8-bad9-4067-bf70-1b29b359a778",
   "metadata": {},
   "outputs": [],
   "source": [
    "kreg = JointKRegressor()\n",
    "betas = kreg.fit([(X1c,y1),(X2c,y2)], joint_X_list=[x0_c], loss='quadratic', \n",
    "         tau=0.5, l1=0.0, l2=0.0, weights_list=None) \n",
    "print(JointKRegressor.display(kreg,\"beta\"))\n",
    "JointUtils.check_jointure_constraint(betas,[x0_c],tol=1e-3)"
   ]
  },
  {
   "cell_type": "code",
   "execution_count": null,
   "id": "8fc2f08b-d81a-40b7-bc03-28d2b2a17272",
   "metadata": {},
   "outputs": [],
   "source": [
    "reg = Joint2Regressor()\n",
    "betas, sigma2s = reg.fit_ols_jointure_soft(X1c, X2c, y1, y2, x0_c, lc=15000000.0)\n",
    "print(JointKRegressor.display(reg, \"beta_S_x0_\"))\n",
    "JointUtils.check_jointure_constraint(betas,[x0_c],tol=1e-3)"
   ]
  },
  {
   "cell_type": "code",
   "execution_count": null,
   "id": "c45e3c23-c7e1-4eba-8948-f6c0644ed90d",
   "metadata": {},
   "outputs": [],
   "source": [
    "kreg = JointKRegressor()\n",
    "X2c1,X2c2,y21,y22  = JointUtils.split_at_y0(X2c,y2)\n",
    "jl = [x0_c,JointUtils.find_x0(X2c, y2)]\n",
    "\n",
    "betas = kreg.fit([(X1c,y1),(X2c1,y21),(X2c2,y22)], jl, loss='quantile', \n",
    "                 tau=0.5, l1=0.9, l2=0.3)\n",
    "print(JointKRegressor.display(kreg,\"beta\"))\n",
    "# JointKRegressor.predict(kreg,Xc,1) [:5]"
   ]
  },
  {
   "cell_type": "code",
   "execution_count": null,
   "id": "8707670b-e077-4f90-8f9d-978aa27562ff",
   "metadata": {},
   "outputs": [],
   "source": []
  },
  {
   "cell_type": "code",
   "execution_count": null,
   "id": "daa120b9-5e9a-4761-b9f1-522965dbf94e",
   "metadata": {},
   "outputs": [],
   "source": []
  },
  {
   "cell_type": "code",
   "execution_count": null,
   "id": "ab790e3b-8000-4f1d-bc57-ac711cdc65ec",
   "metadata": {},
   "outputs": [],
   "source": []
  },
  {
   "cell_type": "code",
   "execution_count": null,
   "id": "5318c422-7538-475e-a877-3ec79bb3b71b",
   "metadata": {},
   "outputs": [],
   "source": [
    "import statsmodels.api as sm\n",
    "model  = sm.OLS(y, Xc.values).fit()\n",
    "model1 = sm.OLS(y1, X1c.values).fit()\n",
    "model2 = sm.OLS(y2, X2c.values).fit()\n",
    "print(np.round([model.llf, model.bic, model.aic],2))\n",
    "print(np.round([model1.llf, model1.bic, model1.aic],2))\n",
    "print(np.round([model2.llf, model2.bic, model2.aic],2))"
   ]
  },
  {
   "cell_type": "code",
   "execution_count": null,
   "id": "35fab59a-3e7f-4a84-a153-d7ed279e3c67",
   "metadata": {},
   "outputs": [],
   "source": []
  }
 ],
 "metadata": {
  "kernelspec": {
   "display_name": "Python 3 (ipykernel)",
   "language": "python",
   "name": "python3"
  },
  "language_info": {
   "codemirror_mode": {
    "name": "ipython",
    "version": 3
   },
   "file_extension": ".py",
   "mimetype": "text/x-python",
   "name": "python",
   "nbconvert_exporter": "python",
   "pygments_lexer": "ipython3",
   "version": "3.11.7"
  }
 },
 "nbformat": 4,
 "nbformat_minor": 5
}
